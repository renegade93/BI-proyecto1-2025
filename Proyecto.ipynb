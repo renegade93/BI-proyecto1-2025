{
 "cells": [
  {
   "cell_type": "markdown",
   "id": "c6d29f6b",
   "metadata": {},
   "source": [
    "## Carga y exploración inicial"
   ]
  },
  {
   "cell_type": "code",
   "execution_count": null,
   "id": "b2a18be9",
   "metadata": {},
   "outputs": [
    {
     "name": "stdout",
     "output_type": "stream",
     "text": [
      "¡Archivo cargado exitosamente!\n",
      "\n",
      "--- Primeras 5 filas de los datos: ---\n"
     ]
    },
    {
     "data": {
      "text/html": [
       "<div>\n",
       "<style scoped>\n",
       "    .dataframe tbody tr th:only-of-type {\n",
       "        vertical-align: middle;\n",
       "    }\n",
       "\n",
       "    .dataframe tbody tr th {\n",
       "        vertical-align: top;\n",
       "    }\n",
       "\n",
       "    .dataframe thead th {\n",
       "        text-align: right;\n",
       "    }\n",
       "</style>\n",
       "<table border=\"1\" class=\"dataframe\">\n",
       "  <thead>\n",
       "    <tr style=\"text-align: right;\">\n",
       "      <th></th>\n",
       "      <th>textos</th>\n",
       "      <th>labels</th>\n",
       "    </tr>\n",
       "  </thead>\n",
       "  <tbody>\n",
       "    <tr>\n",
       "      <th>0</th>\n",
       "      <td>\"Aprendizaje\" y \"educación\" se consideran sinó...</td>\n",
       "      <td>4</td>\n",
       "    </tr>\n",
       "    <tr>\n",
       "      <th>1</th>\n",
       "      <td>Para los niños más pequeños (bebés y niños peq...</td>\n",
       "      <td>4</td>\n",
       "    </tr>\n",
       "    <tr>\n",
       "      <th>2</th>\n",
       "      <td>Además, la formación de especialistas en medic...</td>\n",
       "      <td>3</td>\n",
       "    </tr>\n",
       "    <tr>\n",
       "      <th>3</th>\n",
       "      <td>En los países de la OCDE se tiende a pasar de ...</td>\n",
       "      <td>4</td>\n",
       "    </tr>\n",
       "    <tr>\n",
       "      <th>4</th>\n",
       "      <td>Este grupo se centró en las personas que padec...</td>\n",
       "      <td>3</td>\n",
       "    </tr>\n",
       "  </tbody>\n",
       "</table>\n",
       "</div>"
      ],
      "text/plain": [
       "                                              textos  labels\n",
       "0  \"Aprendizaje\" y \"educación\" se consideran sinó...       4\n",
       "1  Para los niños más pequeños (bebés y niños peq...       4\n",
       "2  Además, la formación de especialistas en medic...       3\n",
       "3  En los países de la OCDE se tiende a pasar de ...       4\n",
       "4  Este grupo se centró en las personas que padec...       3"
      ]
     },
     "metadata": {},
     "output_type": "display_data"
    },
    {
     "name": "stdout",
     "output_type": "stream",
     "text": [
      "\n",
      "--- Información general del DataFrame: ---\n",
      "<class 'pandas.core.frame.DataFrame'>\n",
      "RangeIndex: 2424 entries, 0 to 2423\n",
      "Data columns (total 2 columns):\n",
      " #   Column  Non-Null Count  Dtype \n",
      "---  ------  --------------  ----- \n",
      " 0   textos  2424 non-null   object\n",
      " 1   labels  2424 non-null   int64 \n",
      "dtypes: int64(1), object(1)\n",
      "memory usage: 38.0+ KB\n",
      "\n",
      "--- Distribución de las clases (labels): ---\n",
      "labels\n",
      "4    1025\n",
      "3     894\n",
      "1     505\n",
      "Name: count, dtype: int64\n"
     ]
    }
   ],
   "source": [
    "import pandas as pd\n",
    "\n",
    "file_path = 'data/Datos_proyecto.xlsx'\n",
    "\n",
    "try:\n",
    "    df = pd.read_excel(file_path)\n",
    "    print(\"¡Archivo cargado exitosamente!\")\n",
    "except FileNotFoundError:\n",
    "    print(f\"Error: No se encontró el archivo en la ruta '{file_path}'.\")\n",
    "    df = pd.DataFrame()\n",
    "\n",
    "\n",
    "if not df.empty:\n",
    "    \n",
    "    # Vistazo a las primeras 5 filas\n",
    "    print(\"\\n--- Primeras 5 filas de los datos: ---\")\n",
    "    display(df.head())\n",
    "    \n",
    "    # Obtener un resumen del DataFrame.\n",
    "    print(\"\\n--- Información general del DataFrame: ---\")\n",
    "    df.info()\n",
    "    \n",
    "    # Contar cuántas filas hay para cada categoría (label).\n",
    "    print(\"\\n--- Distribución de las clases (labels): ---\")\n",
    "    print(df['labels'].value_counts())"
   ]
  },
  {
   "cell_type": "markdown",
   "id": "78c905e3",
   "metadata": {},
   "source": [
    "No hay filas nulas, pero hay más labels de las categorías 4 y 3 que de 1, por lo que el modelo podría tender a predecir 4 o 3 simplemente porque aparece más veces."
   ]
  },
  {
   "cell_type": "code",
   "execution_count": 2,
   "id": "ff6bbfae",
   "metadata": {},
   "outputs": [
    {
     "name": "stderr",
     "output_type": "stream",
     "text": [
      "C:\\Users\\carlo\\AppData\\Local\\Temp\\ipykernel_12896\\1462879198.py:7: FutureWarning: \n",
      "\n",
      "Passing `palette` without assigning `hue` is deprecated and will be removed in v0.14.0. Assign the `x` variable to `hue` and set `legend=False` for the same effect.\n",
      "\n",
      "  sns.countplot(x='labels', data=df, palette='viridis')\n"
     ]
    },
    {
     "data": {
      "image/png": "[encoded data removed]",
      "text/plain": [
       "<Figure size 800x500 with 1 Axes>"
      ]
     },
     "metadata": {},
     "output_type": "display_data"
    }
   ],
   "source": [
    "import matplotlib.pyplot as plt\n",
    "import seaborn as sns\n",
    "\n",
    "sns.set_theme(style=\"whitegrid\")\n",
    "\n",
    "plt.figure(figsize=(8, 5))\n",
    "sns.countplot(x='labels', data=df, palette='viridis')\n",
    "plt.title('Distribución de Opiniones por ODS')\n",
    "plt.xlabel('Etiqueta ODS')\n",
    "plt.ylabel('Cantidad de Textos')\n",
    "plt.xticks(ticks=[0, 1, 2], labels=['ODS 4', 'ODS 3', 'ODS 1'])\n",
    "plt.show()"
   ]
  },
  {
   "cell_type": "code",
   "execution_count": 3,
   "id": "d9bd6e4a",
   "metadata": {},
   "outputs": [
    {
     "name": "stderr",
     "output_type": "stream",
     "text": [
      "[nltk_data] Downloading package stopwords to\n",
      "[nltk_data]     C:\\Users\\carlo\\AppData\\Roaming\\nltk_data...\n",
      "[nltk_data]   Package stopwords is already up-to-date!\n",
      "[nltk_data] Downloading package punkt to\n",
      "[nltk_data]     C:\\Users\\carlo\\AppData\\Roaming\\nltk_data...\n",
      "[nltk_data]   Package punkt is already up-to-date!\n"
     ]
    },
    {
     "data": {
      "text/plain": [
       "True"
      ]
     },
     "execution_count": 3,
     "metadata": {},
     "output_type": "execute_result"
    }
   ],
   "source": [
    "import nltk\n",
    "nltk.download('stopwords')\n",
    "nltk.download('punkt')"
   ]
  },
  {
   "cell_type": "code",
   "execution_count": null,
   "id": "44310747",
   "metadata": {},
   "outputs": [],
   "source": [
    "!pip install spacy==3.7.0\n",
    "!pip install https://github.com/explosion/spacy-models/releases/download/es_core_news_sm-3.7.0/es_core_news_sm-3.7.0-py3-none-any.whl\n"
   ]
  },
  {
   "cell_type": "code",
   "execution_count": 5,
   "id": "6f93a594",
   "metadata": {},
   "outputs": [
    {
     "name": "stdout",
     "output_type": "stream",
     "text": [
      "--- Comparación del texto original y el texto limpio ---\n"
     ]
    },
    {
     "data": {
      "text/html": [
       "<div>\n",
       "<style scoped>\n",
       "    .dataframe tbody tr th:only-of-type {\n",
       "        vertical-align: middle;\n",
       "    }\n",
       "\n",
       "    .dataframe tbody tr th {\n",
       "        vertical-align: top;\n",
       "    }\n",
       "\n",
       "    .dataframe thead th {\n",
       "        text-align: right;\n",
       "    }\n",
       "</style>\n",
       "<table border=\"1\" class=\"dataframe\">\n",
       "  <thead>\n",
       "    <tr style=\"text-align: right;\">\n",
       "      <th></th>\n",
       "      <th>textos</th>\n",
       "      <th>texto_limpio</th>\n",
       "    </tr>\n",
       "  </thead>\n",
       "  <tbody>\n",
       "    <tr>\n",
       "      <th>0</th>\n",
       "      <td>\"Aprendizaje\" y \"educación\" se consideran sinó...</td>\n",
       "      <td>aprendizaje educación considerar sinónir escol...</td>\n",
       "    </tr>\n",
       "    <tr>\n",
       "      <th>1</th>\n",
       "      <td>Para los niños más pequeños (bebés y niños peq...</td>\n",
       "      <td>niño pequeño bebé niño pequeño capacitación es...</td>\n",
       "    </tr>\n",
       "    <tr>\n",
       "      <th>2</th>\n",
       "      <td>Además, la formación de especialistas en medic...</td>\n",
       "      <td>además formación especialista medicina general...</td>\n",
       "    </tr>\n",
       "    <tr>\n",
       "      <th>3</th>\n",
       "      <td>En los países de la OCDE se tiende a pasar de ...</td>\n",
       "      <td>país ocde tender pasar curso obligatorio optat...</td>\n",
       "    </tr>\n",
       "    <tr>\n",
       "      <th>4</th>\n",
       "      <td>Este grupo se centró en las personas que padec...</td>\n",
       "      <td>grupo centrar persona padecer trastorno mental...</td>\n",
       "    </tr>\n",
       "  </tbody>\n",
       "</table>\n",
       "</div>"
      ],
      "text/plain": [
       "                                              textos  \\\n",
       "0  \"Aprendizaje\" y \"educación\" se consideran sinó...   \n",
       "1  Para los niños más pequeños (bebés y niños peq...   \n",
       "2  Además, la formación de especialistas en medic...   \n",
       "3  En los países de la OCDE se tiende a pasar de ...   \n",
       "4  Este grupo se centró en las personas que padec...   \n",
       "\n",
       "                                        texto_limpio  \n",
       "0  aprendizaje educación considerar sinónir escol...  \n",
       "1  niño pequeño bebé niño pequeño capacitación es...  \n",
       "2  además formación especialista medicina general...  \n",
       "3  país ocde tender pasar curso obligatorio optat...  \n",
       "4  grupo centrar persona padecer trastorno mental...  "
      ]
     },
     "metadata": {},
     "output_type": "display_data"
    }
   ],
   "source": [
    "import re\n",
    "import spacy\n",
    "from nltk.corpus import stopwords\n",
    "\n",
    "# Cargar el modelo de español de spacy. Spacy se va a encargar de la lematización.\n",
    "nlp = spacy.load(\"es_core_news_sm\")\n",
    "stop_words = set(stopwords.words('spanish'))\n",
    "\n",
    "def limpiar_texto(texto):\n",
    "    # Convertir a minúsculas\n",
    "    texto = texto.lower()\n",
    "    # Eliminar puntuación y números\n",
    "    texto = re.sub(r'[^a-záéíóúñü]', ' ', texto)\n",
    "    \n",
    "    # Lematización y eliminación de stop words\n",
    "    doc = nlp(texto)\n",
    "    tokens_limpios = [token.lemma_ for token in doc if token.text not in stop_words and len(token.text) > 2]\n",
    "    \n",
    "    return \" \".join(tokens_limpios)\n",
    "\n",
    "df['texto_limpio'] = df['textos'].apply(limpiar_texto)\n",
    "\n",
    "print(\"--- Comparación del texto original y el texto limpio ---\")\n",
    "display(df[['textos', 'texto_limpio']].head())"
   ]
  },
  {
   "cell_type": "markdown",
   "id": "5fdbe9dd",
   "metadata": {},
   "source": [
    "Se limita el vocabulario a las 3000 palabras más frecuentes y se convierte el texto a vectores usando Tf-Idf"
   ]
  },
  {
   "cell_type": "code",
   "execution_count": 15,
   "id": "0bbeba7e",
   "metadata": {},
   "outputs": [
    {
     "name": "stdout",
     "output_type": "stream",
     "text": [
      "Forma de la nueva matriz de características (X): (2424, 5000)\n"
     ]
    }
   ],
   "source": [
    "from sklearn.feature_extraction.text import TfidfVectorizer\n",
    "\n",
    "vectorizer_ngram = TfidfVectorizer(max_features=5000, ngram_range=(1, 2))\n",
    "\n",
    "X = vectorizer_ngram.fit_transform(df['texto_limpio'])\n",
    "y = df['labels']\n",
    "\n",
    "print(\"Forma de la nueva matriz de características (X):\", X.shape)"
   ]
  },
  {
   "cell_type": "markdown",
   "id": "9c153e22",
   "metadata": {},
   "source": [
    "Separar conjunto de entrenamiento y de prueba."
   ]
  },
  {
   "cell_type": "code",
   "execution_count": 16,
   "id": "14b474c1",
   "metadata": {},
   "outputs": [
    {
     "name": "stdout",
     "output_type": "stream",
     "text": [
      "Distribución de clases en el conjunto de entrenamiento (antes de SMOTE):\n",
      "labels\n",
      "4    820\n",
      "3    715\n",
      "1    404\n",
      "Name: count, dtype: int64\n"
     ]
    }
   ],
   "source": [
    "from sklearn.model_selection import train_test_split\n",
    "\n",
    "X_train, X_test, y_train, y_test = train_test_split(\n",
    "    X, \n",
    "    y, \n",
    "    test_size=0.2,   \n",
    "    random_state=42,  \n",
    "    stratify=y        \n",
    ")\n",
    "\n",
    "print(\"Distribución de clases en el conjunto de entrenamiento (antes de SMOTE):\")\n",
    "print(y_train.value_counts())"
   ]
  },
  {
   "cell_type": "code",
   "execution_count": null,
   "id": "0825d5d9",
   "metadata": {},
   "outputs": [
    {
     "name": "stdout",
     "output_type": "stream",
     "text": [
      "Forma de X_train antes de SMOTE: (1939, 5000)\n",
      "Forma de X_train después de SMOTE: (2460, 5000)\n",
      "labels\n",
      "3    820\n",
      "1    820\n",
      "4    820\n",
      "Name: count, dtype: int64\n"
     ]
    }
   ],
   "source": [
    "from imblearn.over_sampling import SMOTE\n",
    "\n",
    "smote = SMOTE(random_state=42)\n",
    "\n",
    "# Aplicar SMOTE solo a los datos de entrenamiento\n",
    "X_train_smote, y_train_smote = smote.fit_resample(X_train, y_train)\n",
    "\n",
    "print(\"Forma de X_train antes de SMOTE:\", X_train.shape)\n",
    "print(\"Forma de X_train después de SMOTE:\", X_train_smote.shape)\n",
    "\n",
    "print(pd.Series(y_train_smote).value_counts())"
   ]
  },
  {
   "cell_type": "markdown",
   "id": "b580e8c7",
   "metadata": {},
   "source": [
    "Entrenar los 3 modelos. Se eligió:\n",
    "- Regresión Logística\n",
    "- Bayes Multinomial\n",
    "- Support Vector Machine (SVC)"
   ]
  },
  {
   "cell_type": "code",
   "execution_count": null,
   "id": "b2699698",
   "metadata": {},
   "outputs": [
    {
     "name": "stdout",
     "output_type": "stream",
     "text": [
      "Fitting 5 folds for each of 4 candidates, totalling 20 fits\n",
      "Mejor F1-score para LR: 0.9747\n",
      "Mejores parámetros: {'classifier__C': 1}\n",
      "\n",
      "--- Iniciando GridSearchCV para Naive Bayes ---\n",
      "Fitting 5 folds for each of 3 candidates, totalling 15 fits\n",
      "Mejor F1-score para NB: 0.9682\n",
      "Mejores parámetros: {'classifier__alpha': 0.5}\n",
      "\n",
      "--- Iniciando GridSearchCV para SVM (LinearSVC) ---\n",
      "Fitting 5 folds for each of 4 candidates, totalling 20 fits\n",
      "Mejor F1-score para SVM: 0.9752\n",
      "Mejores parámetros: {'classifier__C': 0.1}\n",
      "\n",
      "El mejor modelo es: SVM (LinearSVC) con un F1-score de 0.9752\n"
     ]
    },
    {
     "name": "stderr",
     "output_type": "stream",
     "text": [
      "c:\\ProgramData\\anaconda3\\Lib\\site-packages\\sklearn\\svm\\_classes.py:31: FutureWarning: The default value of `dual` will change from `True` to `'auto'` in 1.5. Set the value of `dual` explicitly to suppress the warning.\n",
      "  warnings.warn(\n"
     ]
    }
   ],
   "source": [
    "from sklearn.calibration import LinearSVC\n",
    "from sklearn.linear_model import LogisticRegression\n",
    "from sklearn.naive_bayes import MultinomialNB\n",
    "from sklearn.model_selection import GridSearchCV\n",
    "from imblearn.pipeline import Pipeline\n",
    "from imblearn.over_sampling import SMOTE\n",
    "\n",
    "# =============================================================================\n",
    "# 1. BÚSQUEDA PARA REGRESIÓN LOGÍSTICA\n",
    "# =============================================================================\n",
    "\n",
    "pipeline_lr = Pipeline([\n",
    "    ('smote', SMOTE(random_state=42)),\n",
    "    ('classifier', LogisticRegression(random_state=42, max_iter=2000))\n",
    "])\n",
    "\n",
    "# 'classifier__C' se refiere al parámetro 'C' del paso 'classifier'\n",
    "parameters_lr = {\n",
    "    'classifier__C': [0.1, 1, 10, 100]\n",
    "}\n",
    "\n",
    "grid_search_lr = GridSearchCV(pipeline_lr, parameters_lr, cv=5, scoring='f1_weighted', n_jobs=-1, verbose=1)\n",
    "grid_search_lr.fit(X_train, y_train)\n",
    "\n",
    "print(f\"Mejor F1-score para LR: {grid_search_lr.best_score_:.4f}\")\n",
    "print(f\"Mejores parámetros: {grid_search_lr.best_params_}\\n\")\n",
    "\n",
    "\n",
    "# =============================================================================\n",
    "# 2. BÚSQUEDA PARA NAIVE BAYES MULTINOMIAL\n",
    "# =============================================================================\n",
    "print(\"--- Iniciando GridSearchCV para Naive Bayes ---\")\n",
    "\n",
    "pipeline_nb = Pipeline([\n",
    "    ('smote', SMOTE(random_state=42)),\n",
    "    ('classifier', MultinomialNB())\n",
    "])\n",
    "\n",
    "# Naive Bayes tiene un parámetro principal: 'alpha' (suavizado)\n",
    "parameters_nb = {\n",
    "    'classifier__alpha': [0.1, 0.5, 1.0]\n",
    "}\n",
    "\n",
    "grid_search_nb = GridSearchCV(pipeline_nb, parameters_nb, cv=5, scoring='f1_weighted', n_jobs=-1, verbose=1)\n",
    "grid_search_nb.fit(X_train, y_train)\n",
    "\n",
    "print(f\"Mejor F1-score para NB: {grid_search_nb.best_score_:.4f}\")\n",
    "print(f\"Mejores parámetros: {grid_search_nb.best_params_}\\n\")\n",
    "\n",
    "\n",
    "# =============================================================================\n",
    "# 3. BÚSQUEDA PARA SUPPORT VECTOR MACHINE (LINEAR SVC)\n",
    "# =============================================================================\n",
    "print(\"--- Iniciando GridSearchCV para SVM (LinearSVC) ---\")\n",
    "\n",
    "pipeline_svc = Pipeline([\n",
    "    ('smote', SMOTE(random_state=42)),\n",
    "    ('classifier', LinearSVC(random_state=42, max_iter=5000))\n",
    "])\n",
    "\n",
    "# El parámetro clave de LinearSVC es 'C' (penalización del error)\n",
    "parameters_svc = {\n",
    "    'classifier__C': [0.1, 1, 10, 100]\n",
    "}\n",
    "\n",
    "grid_search_svc = GridSearchCV(pipeline_svc, parameters_svc, cv=5, scoring='f1_weighted', n_jobs=-1, verbose=1)\n",
    "grid_search_svc.fit(X_train, y_train)\n",
    "\n",
    "print(f\"Mejor F1-score para SVM: {grid_search_svc.best_score_:.4f}\")\n",
    "print(f\"Mejores parámetros: {grid_search_svc.best_params_}\\n\")\n",
    "\n",
    "\n",
    "# Encontrar el mejor\n",
    "scores = {\n",
    "    'Logistic Regression': grid_search_lr.best_score_,\n",
    "    'Naive Bayes': grid_search_nb.best_score_,\n",
    "    'SVM (LinearSVC)': grid_search_svc.best_score_\n",
    "}\n",
    "\n",
    "# Encontrar el modelo con el mejor score\n",
    "best_model_name = max(scores, key=scores.get)\n",
    "print(f\"El mejor modelo es: {best_model_name} con un F1-score de {scores[best_model_name]:.4f}\")\n",
    "\n",
    "# Guardar el mejor modelo para usarlo después\n",
    "if best_model_name == 'Logistic Regression':\n",
    "    best_model = grid_search_lr.best_estimator_\n",
    "elif best_model_name == 'Naive Bayes':\n",
    "    best_model = grid_search_nb.best_estimator_\n",
    "else:\n",
    "    best_model = grid_search_svc.best_estimator_"
   ]
  },
  {
   "cell_type": "code",
   "execution_count": 21,
   "id": "08e77814",
   "metadata": {},
   "outputs": [
    {
     "name": "stdout",
     "output_type": "stream",
     "text": [
      "========================================\n",
      "  Resultados Finales: Regresión Logística\n",
      "========================================\n",
      "                   precision    recall  f1-score   support\n",
      "\n",
      "  ODS 1 (Pobreza)       0.96      0.94      0.95       101\n",
      "    ODS 3 (Salud)       0.97      0.98      0.97       179\n",
      "ODS 4 (Educación)       0.98      0.98      0.98       205\n",
      "\n",
      "         accuracy                           0.97       485\n",
      "        macro avg       0.97      0.97      0.97       485\n",
      "     weighted avg       0.97      0.97      0.97       485\n",
      "\n"
     ]
    },
    {
     "data": {
      "image/png": "[encoded data removed]",
      "text/plain": [
       "<Figure size 600x400 with 2 Axes>"
      ]
     },
     "metadata": {},
     "output_type": "display_data"
    },
    {
     "name": "stdout",
     "output_type": "stream",
     "text": [
      "\n",
      "========================================\n",
      "    Resultados Finales: Naive Bayes\n",
      "========================================\n",
      "                   precision    recall  f1-score   support\n",
      "\n",
      "  ODS 1 (Pobreza)       0.90      0.97      0.93       101\n",
      "    ODS 3 (Salud)       0.96      0.95      0.96       179\n",
      "ODS 4 (Educación)       0.98      0.95      0.97       205\n",
      "\n",
      "         accuracy                           0.95       485\n",
      "        macro avg       0.95      0.96      0.95       485\n",
      "     weighted avg       0.96      0.95      0.95       485\n",
      "\n"
     ]
    },
    {
     "data": {
      "image/png": "[encoded data removed]",
      "text/plain": [
       "<Figure size 600x400 with 2 Axes>"
      ]
     },
     "metadata": {},
     "output_type": "display_data"
    },
    {
     "name": "stdout",
     "output_type": "stream",
     "text": [
      "\n",
      "========================================\n",
      "     Resultados Finales: SVM (LinearSVC)\n",
      "========================================\n",
      "                   precision    recall  f1-score   support\n",
      "\n",
      "  ODS 1 (Pobreza)       0.96      0.95      0.96       101\n",
      "    ODS 3 (Salud)       0.97      0.97      0.97       179\n",
      "ODS 4 (Educación)       0.98      0.98      0.98       205\n",
      "\n",
      "         accuracy                           0.97       485\n",
      "        macro avg       0.97      0.97      0.97       485\n",
      "     weighted avg       0.97      0.97      0.97       485\n",
      "\n"
     ]
    },
    {
     "data": {
      "image/png": "[encoded data removed]",
      "text/plain": [
       "<Figure size 600x400 with 2 Axes>"
      ]
     },
     "metadata": {},
     "output_type": "display_data"
    }
   ],
   "source": [
    "from sklearn.metrics import classification_report, confusion_matrix\n",
    "import seaborn as sns\n",
    "import matplotlib.pyplot as plt\n",
    "\n",
    "best_lr_model = grid_search_lr.best_estimator_\n",
    "best_nb_model = grid_search_nb.best_estimator_\n",
    "best_svc_model = grid_search_svc.best_estimator_\n",
    "\n",
    "\n",
    "# --- 1. Evaluación de Regresión Logística ---\n",
    "print(\"=\"*40)\n",
    "print(\"  Resultados Finales: Regresión Logística\")\n",
    "print(\"=\"*40)\n",
    "y_pred_lr = best_lr_model.predict(X_test)\n",
    "print(classification_report(y_test, y_pred_lr, target_names=['ODS 1 (Pobreza)', 'ODS 3 (Salud)', 'ODS 4 (Educación)']))\n",
    "\n",
    "# Matriz de confusión\n",
    "cm_lr = confusion_matrix(y_test, y_pred_lr)\n",
    "plt.figure(figsize=(6, 4))\n",
    "sns.heatmap(cm_lr, annot=True, fmt='d', cmap='Blues', \n",
    "            xticklabels=['ODS 1', 'ODS 3', 'ODS 4'], \n",
    "            yticklabels=['ODS 1', 'ODS 3', 'ODS 4'])\n",
    "plt.title('Matriz de Confusión - Regresión Logística')\n",
    "plt.ylabel('Etiqueta Real')\n",
    "plt.xlabel('Etiqueta Predicha')\n",
    "plt.show()\n",
    "\n",
    "\n",
    "# --- 2. Evaluación de Naive Bayes ---\n",
    "print(\"\\n\" + \"=\"*40)\n",
    "print(\"    Resultados Finales: Naive Bayes\")\n",
    "print(\"=\"*40)\n",
    "y_pred_nb = best_nb_model.predict(X_test)\n",
    "print(classification_report(y_test, y_pred_nb, target_names=['ODS 1 (Pobreza)', 'ODS 3 (Salud)', 'ODS 4 (Educación)']))\n",
    "\n",
    "# Matriz de confusión\n",
    "cm_nb = confusion_matrix(y_test, y_pred_nb)\n",
    "plt.figure(figsize=(6, 4))\n",
    "sns.heatmap(cm_nb, annot=True, fmt='d', cmap='Greens', \n",
    "            xticklabels=['ODS 1', 'ODS 3', 'ODS 4'], \n",
    "            yticklabels=['ODS 1', 'ODS 3', 'ODS 4'])\n",
    "plt.title('Matriz de Confusión - Naive Bayes')\n",
    "plt.ylabel('Etiqueta Real')\n",
    "plt.xlabel('Etiqueta Predicha')\n",
    "plt.show()\n",
    "\n",
    "\n",
    "# --- 3. Evaluación de SVM (LinearSVC) ---\n",
    "print(\"\\n\" + \"=\"*40)\n",
    "print(\"     Resultados Finales: SVM (LinearSVC)\")\n",
    "print(\"=\"*40)\n",
    "y_pred_svc = best_svc_model.predict(X_test)\n",
    "print(classification_report(y_test, y_pred_svc, target_names=['ODS 1 (Pobreza)', 'ODS 3 (Salud)', 'ODS 4 (Educación)']))\n",
    "\n",
    "# Matriz de confusión\n",
    "cm_svc = confusion_matrix(y_test, y_pred_svc)\n",
    "plt.figure(figsize=(6, 4))\n",
    "sns.heatmap(cm_svc, annot=True, fmt='d', cmap='Oranges', \n",
    "            xticklabels=['ODS 1', 'ODS 3', 'ODS 4'], \n",
    "            yticklabels=['ODS 1', 'ODS 3', 'ODS 4'])\n",
    "plt.title('Matriz de Confusión - SVM (LinearSVC)')\n",
    "plt.ylabel('Etiqueta Real')\n",
    "plt.xlabel('Etiqueta Predicha')\n",
    "plt.show()"
   ]
  },
  {
   "cell_type": "code",
   "execution_count": null,
   "id": "ebe12e46",
   "metadata": {},
   "outputs": [
    {
     "data": {
      "text/html": [
       "<div>\n",
       "<style scoped>\n",
       "    .dataframe tbody tr th:only-of-type {\n",
       "        vertical-align: middle;\n",
       "    }\n",
       "\n",
       "    .dataframe tbody tr th {\n",
       "        vertical-align: top;\n",
       "    }\n",
       "\n",
       "    .dataframe thead th {\n",
       "        text-align: right;\n",
       "    }\n",
       "</style>\n",
       "<table border=\"1\" class=\"dataframe\">\n",
       "  <thead>\n",
       "    <tr style=\"text-align: right;\">\n",
       "      <th></th>\n",
       "      <th>textos</th>\n",
       "      <th>labels_reales</th>\n",
       "      <th>labels_predichas</th>\n",
       "    </tr>\n",
       "  </thead>\n",
       "  <tbody>\n",
       "    <tr>\n",
       "      <th>102</th>\n",
       "      <td>La relación entre el estatus étnico y el consu...</td>\n",
       "      <td>3</td>\n",
       "      <td>3</td>\n",
       "    </tr>\n",
       "    <tr>\n",
       "      <th>1220</th>\n",
       "      <td>En los países de la OCDE, por cada reducción d...</td>\n",
       "      <td>3</td>\n",
       "      <td>3</td>\n",
       "    </tr>\n",
       "    <tr>\n",
       "      <th>233</th>\n",
       "      <td>Una segunda etapa de seguimiento ocurre a los ...</td>\n",
       "      <td>4</td>\n",
       "      <td>4</td>\n",
       "    </tr>\n",
       "    <tr>\n",
       "      <th>2056</th>\n",
       "      <td>La persona respetable más pobre de cualquier s...</td>\n",
       "      <td>1</td>\n",
       "      <td>1</td>\n",
       "    </tr>\n",
       "    <tr>\n",
       "      <th>698</th>\n",
       "      <td>En ellos se basan las publicaciones anuales co...</td>\n",
       "      <td>4</td>\n",
       "      <td>4</td>\n",
       "    </tr>\n",
       "  </tbody>\n",
       "</table>\n",
       "</div>"
      ],
      "text/plain": [
       "                                                 textos  labels_reales  \\\n",
       "102   La relación entre el estatus étnico y el consu...              3   \n",
       "1220  En los países de la OCDE, por cada reducción d...              3   \n",
       "233   Una segunda etapa de seguimiento ocurre a los ...              4   \n",
       "2056  La persona respetable más pobre de cualquier s...              1   \n",
       "698   En ellos se basan las publicaciones anuales co...              4   \n",
       "\n",
       "      labels_predichas  \n",
       "102                  3  \n",
       "1220                 3  \n",
       "233                  4  \n",
       "2056                 1  \n",
       "698                  4  "
      ]
     },
     "metadata": {},
     "output_type": "display_data"
    }
   ],
   "source": [
    "final_predictions = best_model.predict(X_test)\n",
    "\n",
    "df_resultados = pd.DataFrame({\n",
    "    'textos': df.loc[y_test.index, 'textos'],\n",
    "    'labels_reales': y_test,\n",
    "    'labels_predichas': final_predictions\n",
    "})\n",
    "\n",
    "output_filename = 'data/predicciones_grupo_16.xlsx'\n",
    "df_resultados.to_excel(output_filename, index=False)\n",
    "\n",
    "display(df_resultados.head())"
   ]
  },
  {
   "cell_type": "code",
   "execution_count": null,
   "id": "b84889f1",
   "metadata": {},
   "outputs": [
    {
     "name": "stdout",
     "output_type": "stream",
     "text": [
      "Palabras clave más influyentes por ODS:\n",
      "--- ODS 1 ---\n",
      "pobreza, pobre, hogar, ingreso, social, privación, protección social, protección, transferencia, niño, empleo, crecimiento, familia, vivir, umbral, urbano, vivienda, trabajo, multidimensional, pobreza infantil\n",
      "\n",
      "--- ODS 3 ---\n",
      "salud, atención, médico, paciente, enfermedad, sanitario, alcohol, mortalidad, tratamiento, mental, hospital, droga, servicio, medicamento, consumo, atención primario, muerte, cáncer, vih, hospitalario\n",
      "\n",
      "--- ODS 4 ---\n",
      "educación, escuela, estudiante, educativo, docente, aprendizaje, escolar, alumno, profesor, habilidad, enseñanza, maestro, evaluación, formación, universidad, superior, pisa, sistema educativo, ciencia, personal\n",
      "\n"
     ]
    }
   ],
   "source": [
    "def mostrar_palabras_clave(model_pipeline, vectorizer, top_n=20):\n",
    "    classifier = model_pipeline.named_steps['classifier']\n",
    "    feature_names = vectorizer.get_feature_names_out()\n",
    "    \n",
    "    # Coeficientes por palabra\n",
    "    coefs_por_clase = classifier.coef_\n",
    "    \n",
    "    # Palabras más importantes para cada clase\n",
    "    for i, class_label in enumerate(classifier.classes_):\n",
    "        coefs = coefs_por_clase[i]\n",
    "        top_coef_indices = coefs.argsort()[-top_n:]\n",
    "        \n",
    "        top_words = [feature_names[j] for j in top_coef_indices]\n",
    "        \n",
    "        print(f\"--- ODS {class_label} ---\")\n",
    "        print(\", \".join(reversed(top_words)))\n",
    "        print(\"\")\n",
    "\n",
    "\n",
    "print(\"Palabras más influyentes por ODS:\")\n",
    "mostrar_palabras_clave(best_model, vectorizer_ngram)"
   ]
  }
 ],
 "metadata": {
  "kernelspec": {
   "display_name": "base",
   "language": "python",
   "name": "python3"
  },
  "language_info": {
   "codemirror_mode": {
    "name": "ipython",
    "version": 3
   },
   "file_extension": ".py",
   "mimetype": "text/x-python",
   "name": "python",
   "nbconvert_exporter": "python",
   "pygments_lexer": "ipython3",
   "version": "3.12.3"
  }
 },
 "nbformat": 4,
 "nbformat_minor": 5
}
